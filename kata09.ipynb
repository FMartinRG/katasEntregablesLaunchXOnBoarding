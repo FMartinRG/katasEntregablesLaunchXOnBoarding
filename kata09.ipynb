{
 "cells": [
  {
   "cell_type": "markdown",
   "metadata": {},
   "source": [
    "# Kata 09\n",
    "\n",
    "Ejercicio: Uso de funciones en Python\n",
    "Ejercicio 1: Trabajar con argumentos en funciones\n",
    "Los argumentos requeridos en las funciones se utilizan cuando las funciones necesitan que esos argumentos funcionen correctamente. En este ejercicio, construirás un informe de combustible que requiere información de varias ubicaciones de combustible en todo el cohete.\n",
    "\n",
    "\n",
    "Comienza por crear una función que necesite tres lecturas de combustible y devuelva un informe:"
   ]
  },
  {
   "cell_type": "code",
   "execution_count": 2,
   "metadata": {},
   "outputs": [],
   "source": [
    "def reporte_de_tanques(tanque_1, tanque_2, tanque_3):\n",
    "    promedio_general = (tanque_1 + tanque_2 + tanque_3)/ 3\n",
    "    return f\"\"\"Informe de combustible:\n",
    "    Capacidad Total: {promedio_general}%\n",
    "    Tanque 1: {tanque_1}% Tanque 2: {tanque_2}% Tanque 3: {tanque_3}% \n",
    "    \"\"\""
   ]
  },
  {
   "cell_type": "markdown",
   "metadata": {},
   "source": [
    "Ahora que hemos definido la función de informes, vamos a comprobarlo. Para esta misión, los tanques no están llenos:"
   ]
  },
  {
   "cell_type": "code",
   "execution_count": 6,
   "metadata": {},
   "outputs": [
    {
     "name": "stdout",
     "output_type": "stream",
     "text": [
      "Informe de combustible:\n",
      "    Capacidad Total: 60.0%\n",
      "    Tanque 1: 50% Tanque 2: 60% Tanque 3: 70% \n",
      "    \n"
     ]
    }
   ],
   "source": [
    "def reporte_de_tanques(tanque_1, tanque_2, tanque_3):\n",
    "    promedio_general = (tanque_1 + tanque_2 + tanque_3)/ 3\n",
    "    return f\"\"\"Informe de combustible:\n",
    "    Capacidad Total: {promedio_general}%\n",
    "    Tanque 1: {tanque_1}% Tanque 2: {tanque_2}% Tanque 3: {tanque_3}% \n",
    "    \"\"\"\n",
    "\n",
    "# Llamamos a la función que genera el reporte print(funcion(tanque1, tanque2, tanque3))\n",
    "print(reporte_de_tanques(50, 60, 70))"
   ]
  },
  {
   "cell_type": "markdown",
   "metadata": {},
   "source": [
    "En lugar de simplemente crear el informe, la función también está calculando el promedio. Mejora la legibilidad extrayendo el cálculo promedio de la función en una nueva función para que el promedio se pueda hacer de forma independiente:"
   ]
  },
  {
   "cell_type": "code",
   "execution_count": null,
   "metadata": {},
   "outputs": [],
   "source": [
    "# Función promedio "
   ]
  },
  {
   "cell_type": "markdown",
   "metadata": {},
   "source": [
    "Ahora actualiza la función de informes para llamando a la nueva función del promedio:\n",
    "Actualiza la función\n",
    "\n",
    "Una disculpa no logré esta última parte"
   ]
  },
  {
   "cell_type": "markdown",
   "metadata": {},
   "source": [
    "Ejercicio 2: Trabajo con argumentos de palabra clave\n",
    "Ejercicio : Trabajar con argumentos de palabras clave en funciones\n",
    "En este ejercicio, construirás un informe de cohete que requiere varias piezas de información, como el tiempo hasta el destino, el combustible a la izquierda y el nombre del destino. Comienza por crear una función que creará un informe preciso de la misión:"
   ]
  },
  {
   "cell_type": "code",
   "execution_count": 8,
   "metadata": {},
   "outputs": [
    {
     "name": "stdout",
     "output_type": "stream",
     "text": [
      "\n",
      "    Muestra el destino: MArte\n",
      "    Tiempo total al destino: 15002 \n",
      "    combustible total para la mision: 100000 \n",
      "    \n"
     ]
    }
   ],
   "source": [
    "# Función con un informe preciso de la misión. Considera hora de prelanzamiento, tiempo de vuelo, destino, tanque externo y tanque interno\n",
    "\n",
    "def informe_de_cohete (prelanzamiento, tiempo_de_vuelo, destino, tanque_externo, tanque_interno):\n",
    "    return f\"\"\"\n",
    "    Muestra el destino: {destino}\n",
    "    Tiempo total al destino: {prelanzamiento + tiempo_de_vuelo} \n",
    "    combustible total para la mision: {tanque_externo + tanque_interno} \n",
    "    \"\"\"\n",
    "\n",
    "print(informe_de_cohete(2, 15000, \"MArte\", 50000, 50000))"
   ]
  },
  {
   "cell_type": "markdown",
   "metadata": {},
   "source": [
    "La función es problemática porque no se puede adaptar para minutos adicionales o tanques adicionales de combustible. Hazlo más flexible permitiendo cualquier número de pasos basados en el tiempo y cualquier número de tanques. En lugar de usar *args y **kwargs, aprovecha el hecho de que puedes usar cualquier nombre que desees. Asegurate que la función sea más legible mediante el uso de nombres de variables que están asociados con las entradas, como *minutes y **fuel_reservoirs:"
   ]
  },
  {
   "cell_type": "code",
   "execution_count": 11,
   "metadata": {},
   "outputs": [
    {
     "name": "stdout",
     "output_type": "stream",
     "text": [
      "\n",
      "    Muestra el destino: Marte\n",
      "    Tiempo total al destino: 55200 minutes\n",
      "    combustible total para la mision:  500000\n",
      "    \n"
     ]
    }
   ],
   "source": [
    "def informe_de_cohete(destino, *minutes, **fuel_reservoirs):\n",
    "    return f\"\"\"\n",
    "    Muestra el destino: {destino}\n",
    "    Tiempo total al destino: {sum(minutes)} minutes\n",
    "    combustible total para la mision:  {sum(fuel_reservoirs.values())}\n",
    "    \"\"\"\n",
    "\n",
    "print(informe_de_cohete(\"Marte\", 200, 5000, 50000, tanque_1 =300000, tanque_2=200000))"
   ]
  },
  {
   "cell_type": "markdown",
   "metadata": {},
   "source": [
    "ebido a que el combustible que queda en los tanques es específico de cada tanque, actualiza la función para usar el nombre de cada tanque en el informe:"
   ]
  },
  {
   "cell_type": "code",
   "execution_count": 13,
   "metadata": {},
   "outputs": [
    {
     "name": "stdout",
     "output_type": "stream",
     "text": [
      "\n",
      "    Muestra el destino: Marte\n",
      "    Tiempo total al destino: 55200 minutes\n",
      "    combustible total para la mision:  500000\n",
      "    \n"
     ]
    }
   ],
   "source": [
    "\n",
    "def informe_de_cohete(destino, *minutes, **fuel_reservoirs):\n",
    "    return f\"\"\"\n",
    "    Muestra el destino: {destino}\n",
    "    Tiempo total al destino: {sum(minutes)} minutes\n",
    "    combustible total para la mision:  {sum(fuel_reservoirs.values())}\n",
    "    \"\"\"\n",
    "\n",
    "print(informe_de_cohete(\"Marte\", 200, 5000, 50000, tanque_1 =300000, tanque_2=200000))\n",
    "\n",
    "\n",
    "\n",
    "# no logré comprender lo que se requeria una disculpa"
   ]
  }
 ],
 "metadata": {
  "interpreter": {
   "hash": "74026f9103524b662fc2d5565d6687e480ac57577e30ddcbe648caca2a56ce20"
  },
  "kernelspec": {
   "display_name": "Python 3.10.2 64-bit",
   "language": "python",
   "name": "python3"
  },
  "language_info": {
   "codemirror_mode": {
    "name": "ipython",
    "version": 3
   },
   "file_extension": ".py",
   "mimetype": "text/x-python",
   "name": "python",
   "nbconvert_exporter": "python",
   "pygments_lexer": "ipython3",
   "version": "3.10.2"
  },
  "orig_nbformat": 4
 },
 "nbformat": 4,
 "nbformat_minor": 2
}

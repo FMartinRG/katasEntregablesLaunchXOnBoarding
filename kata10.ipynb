{
 "cells": [
  {
   "cell_type": "markdown",
   "metadata": {},
   "source": [
    "# Kata 10"
   ]
  },
  {
   "cell_type": "markdown",
   "metadata": {},
   "source": [
    "<img src = \"1.png\">\n",
    "<img src = \"2.png\">\n",
    "<img src = \"3.png\">\n",
    "<img src = \"4.png\">\n",
    "<img src = \"5.png\">\n",
    "<img src = \"6.png\">\n",
    "<img src = \"7.png\">\n",
    "<img src = \"8.png\">"
   ]
  }
 ],
 "metadata": {
  "interpreter": {
   "hash": "74026f9103524b662fc2d5565d6687e480ac57577e30ddcbe648caca2a56ce20"
  },
  "kernelspec": {
   "display_name": "Python 3.10.2 64-bit",
   "language": "python",
   "name": "python3"
  },
  "language_info": {
   "name": "python",
   "version": "3.10.2"
  },
  "orig_nbformat": 4
 },
 "nbformat": 4,
 "nbformat_minor": 2
}
